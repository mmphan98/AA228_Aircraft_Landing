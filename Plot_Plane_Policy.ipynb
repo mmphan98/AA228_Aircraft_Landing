{
 "cells": [
  {
   "cell_type": "code",
   "execution_count": 4,
   "id": "2bbabdbd",
   "metadata": {},
   "outputs": [
    {
     "data": {
      "text/plain": [
       "\"E:\\\\Documents\\\\2023\\\\Winter 2023\\\\Decision Making Under Uncertainty\\\\AA228_Aircraft_Landing\\\\data\\\\test_dataset4.csv\""
      ]
     },
     "execution_count": 4,
     "metadata": {},
     "output_type": "execute_result"
    }
   ],
   "source": [
    "\"\"\"\n",
    "This function plots a potential path of the plane using the policy generated from \n",
    "the Q-Learning algorithm\n",
    "\"\"\"\n",
    "\n",
    "using CSV\n",
    "using DataFrames\n",
    "using Plots\n",
    "include(\"simulator.jl\")\n",
    "include(\"state_action_space.jl\")\n",
    "include(\"data_generation.jl\")"
   ]
  },
  {
   "cell_type": "code",
   "execution_count": 9,
   "id": "b4dc08ca",
   "metadata": {},
   "outputs": [
    {
     "data": {
      "text/plain": [
       "plot_policy (generic function with 1 method)"
      ]
     },
     "execution_count": 9,
     "metadata": {},
     "output_type": "execute_result"
    }
   ],
   "source": [
    "function plot_policy(inputfilename, outputfilename)\n",
    "    inprefix = \"E:\\\\Documents\\\\2023\\\\Winter 2023\\\\Decision Making Under Uncertainty\\\\AA228_Aircraft_Landing\\\\policy\\\\\"\n",
    "    outprefix = \"E:\\\\Documents\\\\2023\\\\Winter 2023\\\\Decision Making Under Uncertainty\\\\AA228_Aircraft_Landing\\\\plots\\\\\"\n",
    "    inputpath = string(inprefix, inputfilename)\n",
    "    outputpath = string(outprefix, outputfilename)\n",
    "\n",
    "    policy = CSV.read(inputpath, DataFrame; header=false)\n",
    "\n",
    "    C172 = Airplane(-4500, 300, 0.00, 150, 50, -0.0525)\n",
    "    x = Vector{Float64}()\n",
    "    y = Vector{Float64}()\n",
    "    th = Vector{Float64}()\n",
    "    p = Vector{Float64}()\n",
    "    v = Vector{Float64}()\n",
    "    al = Vector{Float64}()\n",
    "\n",
    "\n",
    "    while (sim_valid(C172))\n",
    "        push!(x, C172.x)\n",
    "        push!(y, C172.y)\n",
    "        push!(th, C172.th)\n",
    "        push!(p, C172.power)\n",
    "        push!(v, C172.V_air)\n",
    "        push!(al, C172.alpha)\n",
    "\n",
    "        state_idx = find_state_idx(C172)\n",
    "        action = policy[state_idx, 1]\n",
    "\n",
    "        # Adjust pitch and power setting\n",
    "        if action == 1 || action == 4 || action == 7\n",
    "            th = C172.th + 0.005 #approx 0.25deg adjustments\n",
    "        elseif action == 3 || action == 6 || action == 9\n",
    "            th = C172.th - 0.005 #approx 0.25deg adjustments\n",
    "        end\n",
    "\n",
    "        if action == 1 || action == 2 || action == 3\n",
    "            power = C172.power + 10\n",
    "        elseif action == 7 || action == 8 || action == 9\n",
    "            power = C172.power - 10\n",
    "        end\n",
    "\n",
    "        #Update the airplane model\n",
    "        update_Airplane!(C172, th, power)\n",
    "\n",
    "    end\n",
    "\n",
    "    plot(x, y, seriestype=:scatter)\n",
    "    savefig(outputpath) \n",
    "\n",
    "end"
   ]
  },
  {
   "cell_type": "code",
   "execution_count": 10,
   "id": "87f0bff6",
   "metadata": {},
   "outputs": [
    {
     "name": "stdout",
     "output_type": "stream",
     "text": [
      "  0.704565 seconds (762.48 k allocations: 44.375 MiB, 4.44% gc time, 87.03% compilation time)\n"
     ]
    },
    {
     "data": {
      "text/plain": [
       "\"E:\\\\Documents\\\\2023\\\\Winter 2023\\\\Decision Making Under Uncertainty\\\\AA228_Aircraft_Landing\\\\plots\\\\testplot4.png\""
      ]
     },
     "execution_count": 10,
     "metadata": {},
     "output_type": "execute_result"
    }
   ],
   "source": [
    "\"\"\"\n",
    "Run plotting\n",
    "\"\"\"\n",
    "inputfilename = \"landing4.policy\";\n",
    "outputfilename = \"testplot4.png\";\n",
    "@time plot_policy(inputfilename, outputfilename)"
   ]
  },
  {
   "cell_type": "code",
   "execution_count": null,
   "id": "43730940",
   "metadata": {},
   "outputs": [],
   "source": []
  }
 ],
 "metadata": {
  "kernelspec": {
   "display_name": "Julia 1.8.5",
   "language": "julia",
   "name": "julia-1.8"
  },
  "language_info": {
   "file_extension": ".jl",
   "mimetype": "application/julia",
   "name": "julia",
   "version": "1.8.5"
  }
 },
 "nbformat": 4,
 "nbformat_minor": 5
}
